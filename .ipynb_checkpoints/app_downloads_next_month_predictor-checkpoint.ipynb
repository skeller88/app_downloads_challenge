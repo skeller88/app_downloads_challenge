{
 "cells": [
  {
   "cell_type": "code",
   "execution_count": 16,
   "metadata": {},
   "outputs": [],
   "source": [
    "import time\n",
    "\n",
    "import numpy as np\n",
    "import pandas as pd\n",
    "from sklearn import preprocessing\n",
    "from sklearn.neural_network import MLPRegressor\n",
    "from sklearn.model_selection import train_test_split\n",
    "from sklearn.metrics import mean_squared_error, r2_score"
   ]
  },
  {
   "cell_type": "code",
   "execution_count": 4,
   "metadata": {},
   "outputs": [
    {
     "name": "stdout",
     "output_type": "stream",
     "text": [
      "(100000, 9)\n"
     ]
    },
    {
     "data": {
      "text/html": [
       "<div>\n",
       "<style scoped>\n",
       "    .dataframe tbody tr th:only-of-type {\n",
       "        vertical-align: middle;\n",
       "    }\n",
       "\n",
       "    .dataframe tbody tr th {\n",
       "        vertical-align: top;\n",
       "    }\n",
       "\n",
       "    .dataframe thead th {\n",
       "        text-align: right;\n",
       "    }\n",
       "</style>\n",
       "<table border=\"1\" class=\"dataframe\">\n",
       "  <thead>\n",
       "    <tr style=\"text-align: right;\">\n",
       "      <th></th>\n",
       "      <th>date</th>\n",
       "      <th>year</th>\n",
       "      <th>month</th>\n",
       "      <th>day_of_week</th>\n",
       "      <th>rank</th>\n",
       "      <th>rank_last_month</th>\n",
       "      <th>downloads</th>\n",
       "      <th>downloads_last_month</th>\n",
       "      <th>downloads_next_month</th>\n",
       "    </tr>\n",
       "  </thead>\n",
       "  <tbody>\n",
       "    <tr>\n",
       "      <th>0</th>\n",
       "      <td>2013-02-03</td>\n",
       "      <td>2013</td>\n",
       "      <td>2</td>\n",
       "      <td>1</td>\n",
       "      <td>10540</td>\n",
       "      <td>6835</td>\n",
       "      <td>1240</td>\n",
       "      <td>1728</td>\n",
       "      <td>1495</td>\n",
       "    </tr>\n",
       "    <tr>\n",
       "      <th>1</th>\n",
       "      <td>2013-02-03</td>\n",
       "      <td>2013</td>\n",
       "      <td>2</td>\n",
       "      <td>1</td>\n",
       "      <td>33884</td>\n",
       "      <td>34071</td>\n",
       "      <td>200</td>\n",
       "      <td>177</td>\n",
       "      <td>158</td>\n",
       "    </tr>\n",
       "    <tr>\n",
       "      <th>2</th>\n",
       "      <td>2013-02-03</td>\n",
       "      <td>2013</td>\n",
       "      <td>2</td>\n",
       "      <td>1</td>\n",
       "      <td>2194</td>\n",
       "      <td>2030</td>\n",
       "      <td>6225</td>\n",
       "      <td>5757</td>\n",
       "      <td>1849</td>\n",
       "    </tr>\n",
       "    <tr>\n",
       "      <th>3</th>\n",
       "      <td>2013-02-03</td>\n",
       "      <td>2013</td>\n",
       "      <td>2</td>\n",
       "      <td>1</td>\n",
       "      <td>40288</td>\n",
       "      <td>40543</td>\n",
       "      <td>107</td>\n",
       "      <td>95</td>\n",
       "      <td>32</td>\n",
       "    </tr>\n",
       "    <tr>\n",
       "      <th>4</th>\n",
       "      <td>2013-02-03</td>\n",
       "      <td>2013</td>\n",
       "      <td>2</td>\n",
       "      <td>1</td>\n",
       "      <td>28329</td>\n",
       "      <td>32121</td>\n",
       "      <td>291</td>\n",
       "      <td>203</td>\n",
       "      <td>374</td>\n",
       "    </tr>\n",
       "  </tbody>\n",
       "</table>\n",
       "</div>"
      ],
      "text/plain": [
       "         date  year  month  day_of_week   rank  rank_last_month  downloads  \\\n",
       "0  2013-02-03  2013      2            1  10540             6835       1240   \n",
       "1  2013-02-03  2013      2            1  33884            34071        200   \n",
       "2  2013-02-03  2013      2            1   2194             2030       6225   \n",
       "3  2013-02-03  2013      2            1  40288            40543        107   \n",
       "4  2013-02-03  2013      2            1  28329            32121        291   \n",
       "\n",
       "   downloads_last_month  downloads_next_month  \n",
       "0                  1728                  1495  \n",
       "1                   177                   158  \n",
       "2                  5757                  1849  \n",
       "3                    95                    32  \n",
       "4                   203                   374  "
      ]
     },
     "execution_count": 4,
     "metadata": {},
     "output_type": "execute_result"
    }
   ],
   "source": [
    "df = pd.read_csv('https://storage.googleapis.com/goodwatercap_fs/public/ml_take_home_data/ml_take_home_data_sample.csv')\n",
    "print(df.shape)\n",
    "df.head()"
   ]
  },
  {
   "cell_type": "markdown",
   "metadata": {},
   "source": [
    "# Neural Network Model"
   ]
  },
  {
   "cell_type": "code",
   "execution_count": 5,
   "metadata": {},
   "outputs": [],
   "source": [
    "# Select features to be used\n",
    "reg_features = ['downloads', 'downloads_last_month', 'rank', 'rank_last_month', 'year', 'month', 'day_of_week']\n",
    "y_var = 'downloads_next_month'\n",
    "X = np.log10(df[reg_features].copy())\n",
    "y = np.log10(df[y_var].copy())"
   ]
  },
  {
   "cell_type": "code",
   "execution_count": 6,
   "metadata": {},
   "outputs": [],
   "source": [
    "# Split between train and test\n",
    "X_train, X_test, y_train, y_test = train_test_split(X, y, test_size=0.20, random_state=1)"
   ]
  },
  {
   "cell_type": "code",
   "execution_count": 7,
   "metadata": {},
   "outputs": [],
   "source": [
    "# Normalize the features\n",
    "scaler = preprocessing.StandardScaler().fit(X_train)\n",
    "X_train = scaler.transform(X_train)\n",
    "X_test = scaler.transform(X_test)"
   ]
  },
  {
   "cell_type": "code",
   "execution_count": 8,
   "metadata": {},
   "outputs": [],
   "source": [
    "# Define the hidden layer dimensions\n",
    "layers_dimensions = (100, 50, 20, 5)"
   ]
  },
  {
   "cell_type": "code",
   "execution_count": null,
   "metadata": {},
   "outputs": [],
   "source": [
    "%%time\n",
    "model = MLPRegressor(hidden_layer_sizes = layers_dimensions, random_state=1)\n",
    "model.fit(X_train, y_train)\n",
    "\n",
    "predict_train = NeuralNet.predict(X_train)\n",
    "predict_test = NeuralNet.predict(X_test)\n",
    "rmse_train = np.sqrt(mean_squared_error(y_train, predict_train))\n",
    "rmse_test = np.sqrt(mean_squared_error(y_test, predict_test))\n",
    "print('RMSE train was %.5f' % rmse_train)\n",
    "print('RMSE test was %.5f' % rmse_test)\n",
    "print('R2 train was %.5f' % r2"
   ]
  },
  {
   "cell_type": "code",
   "execution_count": 43,
   "metadata": {},
   "outputs": [
    {
     "name": "stdout",
     "output_type": "stream",
     "text": [
      "RMSE train was 0.21694\n",
      "RMSE test was 0.21392\n",
      "R2 train was 0.91422\n",
      "R2 test was 0.91688\n",
      "CPU times: user 1min 20s, sys: 4.01 s, total: 1min 24s\n",
      "Wall time: 14.2 s\n"
     ]
    }
   ],
   "source": [
    "%%time\n",
    "model = MLPRegressor(hidden_layer_sizes = layers_dimensions, random_state=1)\n",
    "model.fit(X_train, y_train)\n",
    "\n",
    "predict_train_baseline = NeuralNet.predict(X_train)\n",
    "predict_test_baseline = NeuralNet.predict(X_test)\n",
    "\n",
    "rmse_train_baseline = np.sqrt(mean_squared_error(y_train, predict_train))\n",
    "rmse_test_baseline = np.sqrt(mean_squared_error(y_test, predict_test))\n",
    "\n",
    "r2_train_baseline = r2_score(y_train, predict_train)\n",
    "r2_test_baseline = r2_score(y_test, predict_test)\n",
    "\n",
    "print('RMSE train was %.5f' % rmse_train_baseline)\n",
    "print('RMSE test was %.5f' % rmse_test_baseline)\n",
    "print('R2 train was %.5f' % r2_train_baseline)\n",
    "print('R2 test was %.5f' % r2_test_baseline)"
   ]
  },
  {
   "cell_type": "markdown",
   "metadata": {},
   "source": [
    "# Optimized Neural Network Model"
   ]
  },
  {
   "cell_type": "markdown",
   "metadata": {},
   "source": [
    "Baseline CPU time is about 80 seconds. How can this be improved?\n",
    "\n",
    "Adam optimizer is already being used, and it's typically the fastest optimizer. So keep that the same.\n",
    "\n",
    "Add early_stopping - 40 seconds"
   ]
  },
  {
   "cell_type": "code",
   "execution_count": 44,
   "metadata": {},
   "outputs": [
    {
     "name": "stdout",
     "output_type": "stream",
     "text": [
      "RMSE train 0.21693550096467135 difference from baseline 0.0\n",
      "RMSE test 0.2139183885844201 difference from baseline 0.0\n",
      "R2 train 0.9142206250020465 difference from baseline 0.0\n",
      "R2 test 0.9168784909799671 difference from baseline 0.0\n",
      "CPU times: user 41.9 s, sys: 1.85 s, total: 43.8 s\n",
      "Wall time: 7.32 s\n"
     ]
    }
   ],
   "source": [
    "%%time\n",
    "model = MLPRegressor(hidden_layer_sizes = layers_dimensions, random_state=1, early_stopping=True)\n",
    "model.fit(X_train, y_train)\n",
    "\n",
    "predict_train = NeuralNet.predict(X_train)\n",
    "predict_test = NeuralNet.predict(X_test)\n",
    "\n",
    "rmse_train = np.sqrt(mean_squared_error(y_train, predict_train))\n",
    "rmse_test = np.sqrt(mean_squared_error(y_test, predict_test))\n",
    "\n",
    "r2_train = r2_score(y_train, predict_train)\n",
    "r2_test = r2_score(y_test, predict_test)\n",
    "\n",
    "print('RMSE train', rmse_train, 'difference from baseline', rmse_train - rmse_train_baseline)\n",
    "print('RMSE test', rmse_test, 'difference from baseline', rmse_test - rmse_test_baseline)\n",
    "print('R2 train', r2_train, 'difference from baseline', r2_train - r2_train_baseline)\n",
    "print('R2 test', r2_test, 'difference from baseline', r2_test - r2_test_baseline)"
   ]
  },
  {
   "cell_type": "code",
   "execution_count": null,
   "metadata": {},
   "outputs": [],
   "source": []
  }
 ],
 "metadata": {
  "kernelspec": {
   "display_name": "Python [conda env:env] *",
   "language": "python",
   "name": "conda-env-env-py"
  },
  "language_info": {
   "codemirror_mode": {
    "name": "ipython",
    "version": 3
   },
   "file_extension": ".py",
   "mimetype": "text/x-python",
   "name": "python",
   "nbconvert_exporter": "python",
   "pygments_lexer": "ipython3",
   "version": "3.6.10"
  }
 },
 "nbformat": 4,
 "nbformat_minor": 4
}
