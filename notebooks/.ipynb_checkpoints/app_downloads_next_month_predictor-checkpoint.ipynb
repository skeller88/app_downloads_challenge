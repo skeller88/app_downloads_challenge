{
 "cells": [
  {
   "cell_type": "code",
   "execution_count": 333,
   "metadata": {},
   "outputs": [],
   "source": [
    "import random\n",
    "import time\n",
    "\n",
    "import numpy as np\n",
    "import pandas as pd\n",
    "from sklearn import preprocessing\n",
    "from sklearn.neural_network import MLPRegressor\n",
    "from sklearn.model_selection import train_test_split\n",
    "from sklearn.metrics import mean_squared_error, r2_score\n",
    "\n",
    "\n",
    "import tensorflow as tf\n",
    "from tensorflow.keras.callbacks import EarlyStopping\n",
    "from tensorflow.keras.layers import BatchNormalization, Dense, Dropout, Input\n",
    "from tensorflow.keras.models import Model\n",
    "from tensorflow.keras.optimizers import Adam"
   ]
  },
  {
   "cell_type": "code",
   "execution_count": 12,
   "metadata": {},
   "outputs": [
    {
     "name": "stdout",
     "output_type": "stream",
     "text": [
      "\n",
      "True\n",
      "True\n"
     ]
    }
   ],
   "source": [
    "# Are not running on a GPU, but have GPU support\n",
    "print(tf.test.gpu_device_name())\n",
    "print(tf.test.is_built_with_gpu_support())\n",
    "print(tf.test.is_built_with_cuda())"
   ]
  },
  {
   "cell_type": "code",
   "execution_count": 15,
   "metadata": {},
   "outputs": [],
   "source": [
    "random_seed = 1\n",
    "random.seed(random_seed)\n",
    "np.random.seed(random_seed)\n",
    "tf.random.set_seed(random_seed)"
   ]
  },
  {
   "cell_type": "code",
   "execution_count": 3,
   "metadata": {},
   "outputs": [
    {
     "name": "stdout",
     "output_type": "stream",
     "text": [
      "(100000, 9)\n"
     ]
    },
    {
     "data": {
      "text/html": [
       "<div>\n",
       "<style scoped>\n",
       "    .dataframe tbody tr th:only-of-type {\n",
       "        vertical-align: middle;\n",
       "    }\n",
       "\n",
       "    .dataframe tbody tr th {\n",
       "        vertical-align: top;\n",
       "    }\n",
       "\n",
       "    .dataframe thead th {\n",
       "        text-align: right;\n",
       "    }\n",
       "</style>\n",
       "<table border=\"1\" class=\"dataframe\">\n",
       "  <thead>\n",
       "    <tr style=\"text-align: right;\">\n",
       "      <th></th>\n",
       "      <th>date</th>\n",
       "      <th>year</th>\n",
       "      <th>month</th>\n",
       "      <th>day_of_week</th>\n",
       "      <th>rank</th>\n",
       "      <th>rank_last_month</th>\n",
       "      <th>downloads</th>\n",
       "      <th>downloads_last_month</th>\n",
       "      <th>downloads_next_month</th>\n",
       "    </tr>\n",
       "  </thead>\n",
       "  <tbody>\n",
       "    <tr>\n",
       "      <th>0</th>\n",
       "      <td>2013-02-03</td>\n",
       "      <td>2013</td>\n",
       "      <td>2</td>\n",
       "      <td>1</td>\n",
       "      <td>10540</td>\n",
       "      <td>6835</td>\n",
       "      <td>1240</td>\n",
       "      <td>1728</td>\n",
       "      <td>1495</td>\n",
       "    </tr>\n",
       "    <tr>\n",
       "      <th>1</th>\n",
       "      <td>2013-02-03</td>\n",
       "      <td>2013</td>\n",
       "      <td>2</td>\n",
       "      <td>1</td>\n",
       "      <td>33884</td>\n",
       "      <td>34071</td>\n",
       "      <td>200</td>\n",
       "      <td>177</td>\n",
       "      <td>158</td>\n",
       "    </tr>\n",
       "    <tr>\n",
       "      <th>2</th>\n",
       "      <td>2013-02-03</td>\n",
       "      <td>2013</td>\n",
       "      <td>2</td>\n",
       "      <td>1</td>\n",
       "      <td>2194</td>\n",
       "      <td>2030</td>\n",
       "      <td>6225</td>\n",
       "      <td>5757</td>\n",
       "      <td>1849</td>\n",
       "    </tr>\n",
       "    <tr>\n",
       "      <th>3</th>\n",
       "      <td>2013-02-03</td>\n",
       "      <td>2013</td>\n",
       "      <td>2</td>\n",
       "      <td>1</td>\n",
       "      <td>40288</td>\n",
       "      <td>40543</td>\n",
       "      <td>107</td>\n",
       "      <td>95</td>\n",
       "      <td>32</td>\n",
       "    </tr>\n",
       "    <tr>\n",
       "      <th>4</th>\n",
       "      <td>2013-02-03</td>\n",
       "      <td>2013</td>\n",
       "      <td>2</td>\n",
       "      <td>1</td>\n",
       "      <td>28329</td>\n",
       "      <td>32121</td>\n",
       "      <td>291</td>\n",
       "      <td>203</td>\n",
       "      <td>374</td>\n",
       "    </tr>\n",
       "  </tbody>\n",
       "</table>\n",
       "</div>"
      ],
      "text/plain": [
       "         date  year  month  day_of_week   rank  rank_last_month  downloads  \\\n",
       "0  2013-02-03  2013      2            1  10540             6835       1240   \n",
       "1  2013-02-03  2013      2            1  33884            34071        200   \n",
       "2  2013-02-03  2013      2            1   2194             2030       6225   \n",
       "3  2013-02-03  2013      2            1  40288            40543        107   \n",
       "4  2013-02-03  2013      2            1  28329            32121        291   \n",
       "\n",
       "   downloads_last_month  downloads_next_month  \n",
       "0                  1728                  1495  \n",
       "1                   177                   158  \n",
       "2                  5757                  1849  \n",
       "3                    95                    32  \n",
       "4                   203                   374  "
      ]
     },
     "execution_count": 3,
     "metadata": {},
     "output_type": "execute_result"
    }
   ],
   "source": [
    "df = pd.read_csv('https://storage.googleapis.com/goodwatercap_fs/public/ml_take_home_data/ml_take_home_data_sample.csv')\n",
    "print(df.shape)\n",
    "df.head()"
   ]
  },
  {
   "cell_type": "code",
   "execution_count": 331,
   "metadata": {},
   "outputs": [
    {
     "name": "stdout",
     "output_type": "stream",
     "text": [
      "(10000000, 9)\n"
     ]
    },
    {
     "data": {
      "text/html": [
       "<div>\n",
       "<style scoped>\n",
       "    .dataframe tbody tr th:only-of-type {\n",
       "        vertical-align: middle;\n",
       "    }\n",
       "\n",
       "    .dataframe tbody tr th {\n",
       "        vertical-align: top;\n",
       "    }\n",
       "\n",
       "    .dataframe thead th {\n",
       "        text-align: right;\n",
       "    }\n",
       "</style>\n",
       "<table border=\"1\" class=\"dataframe\">\n",
       "  <thead>\n",
       "    <tr style=\"text-align: right;\">\n",
       "      <th></th>\n",
       "      <th>date</th>\n",
       "      <th>year</th>\n",
       "      <th>month</th>\n",
       "      <th>day_of_week</th>\n",
       "      <th>rank</th>\n",
       "      <th>rank_last_month</th>\n",
       "      <th>downloads</th>\n",
       "      <th>downloads_last_month</th>\n",
       "      <th>downloads_next_month</th>\n",
       "    </tr>\n",
       "  </thead>\n",
       "  <tbody>\n",
       "    <tr>\n",
       "      <th>0</th>\n",
       "      <td>2019-01-09</td>\n",
       "      <td>2019</td>\n",
       "      <td>1</td>\n",
       "      <td>4</td>\n",
       "      <td>26422</td>\n",
       "      <td>29816</td>\n",
       "      <td>751</td>\n",
       "      <td>555</td>\n",
       "      <td>397</td>\n",
       "    </tr>\n",
       "    <tr>\n",
       "      <th>1</th>\n",
       "      <td>2014-01-01</td>\n",
       "      <td>2014</td>\n",
       "      <td>1</td>\n",
       "      <td>4</td>\n",
       "      <td>46364</td>\n",
       "      <td>46168</td>\n",
       "      <td>19</td>\n",
       "      <td>17</td>\n",
       "      <td>19</td>\n",
       "    </tr>\n",
       "    <tr>\n",
       "      <th>2</th>\n",
       "      <td>2019-01-01</td>\n",
       "      <td>2019</td>\n",
       "      <td>1</td>\n",
       "      <td>3</td>\n",
       "      <td>2941</td>\n",
       "      <td>2869</td>\n",
       "      <td>10754</td>\n",
       "      <td>11935</td>\n",
       "      <td>5230</td>\n",
       "    </tr>\n",
       "    <tr>\n",
       "      <th>3</th>\n",
       "      <td>2019-01-22</td>\n",
       "      <td>2019</td>\n",
       "      <td>1</td>\n",
       "      <td>3</td>\n",
       "      <td>33063</td>\n",
       "      <td>32831</td>\n",
       "      <td>466</td>\n",
       "      <td>521</td>\n",
       "      <td>441</td>\n",
       "    </tr>\n",
       "    <tr>\n",
       "      <th>4</th>\n",
       "      <td>2018-01-17</td>\n",
       "      <td>2018</td>\n",
       "      <td>1</td>\n",
       "      <td>4</td>\n",
       "      <td>52752</td>\n",
       "      <td>53281</td>\n",
       "      <td>51</td>\n",
       "      <td>48</td>\n",
       "      <td>45</td>\n",
       "    </tr>\n",
       "  </tbody>\n",
       "</table>\n",
       "</div>"
      ],
      "text/plain": [
       "         date  year  month  day_of_week   rank  rank_last_month  downloads  \\\n",
       "0  2019-01-09  2019      1            4  26422            29816        751   \n",
       "1  2014-01-01  2014      1            4  46364            46168         19   \n",
       "2  2019-01-01  2019      1            3   2941             2869      10754   \n",
       "3  2019-01-22  2019      1            3  33063            32831        466   \n",
       "4  2018-01-17  2018      1            4  52752            53281         51   \n",
       "\n",
       "   downloads_last_month  downloads_next_month  \n",
       "0                   555                   397  \n",
       "1                    17                    19  \n",
       "2                 11935                  5230  \n",
       "3                   521                   441  \n",
       "4                    48                    45  "
      ]
     },
     "execution_count": 331,
     "metadata": {},
     "output_type": "execute_result"
    }
   ],
   "source": [
    "df_full = pd.read_csv('https://storage.googleapis.com/goodwatercap_fs/public/ml_take_home_data/ml_take_home_data_full.csv')\n",
    "print(df_full.shape)\n",
    "df_full.head()"
   ]
  },
  {
   "cell_type": "markdown",
   "metadata": {},
   "source": [
    "# Neural Network Model"
   ]
  },
  {
   "cell_type": "code",
   "execution_count": 4,
   "metadata": {},
   "outputs": [],
   "source": [
    "# Select features to be used\n",
    "reg_features = ['downloads', 'downloads_last_month', 'rank', 'rank_last_month', 'year', 'month', 'day_of_week']\n",
    "y_var = 'downloads_next_month'\n",
    "X = np.log10(df[reg_features].copy())\n",
    "y = np.log10(df[y_var].copy())"
   ]
  },
  {
   "cell_type": "code",
   "execution_count": 36,
   "metadata": {},
   "outputs": [
    {
     "name": "stdout",
     "output_type": "stream",
     "text": [
      "(7,)\n"
     ]
    }
   ],
   "source": [
    "print(X.iloc[0].shape)"
   ]
  },
  {
   "cell_type": "code",
   "execution_count": 5,
   "metadata": {},
   "outputs": [],
   "source": [
    "# Split between train and test\n",
    "X_train, X_test, y_train, y_test = train_test_split(X, y, test_size=0.20, random_state=1)"
   ]
  },
  {
   "cell_type": "code",
   "execution_count": 6,
   "metadata": {},
   "outputs": [],
   "source": [
    "# Normalize the features\n",
    "scaler = preprocessing.StandardScaler().fit(X_train)\n",
    "X_train = scaler.transform(X_train)\n",
    "X_test = scaler.transform(X_test)"
   ]
  },
  {
   "cell_type": "code",
   "execution_count": 7,
   "metadata": {},
   "outputs": [],
   "source": [
    "# Define the hidden layer dimensions\n",
    "layers_dimensions = (100, 50, 20, 5)"
   ]
  },
  {
   "cell_type": "code",
   "execution_count": 208,
   "metadata": {},
   "outputs": [
    {
     "name": "stdout",
     "output_type": "stream",
     "text": [
      "CPU times: user 1min 1s, sys: 1.61 s, total: 1min 2s\n",
      "Wall time: 10.5 s\n"
     ]
    },
    {
     "data": {
      "text/plain": [
       "MLPRegressor(activation='relu', alpha=0.0001, batch_size='auto', beta_1=0.9,\n",
       "             beta_2=0.999, early_stopping=False, epsilon=1e-08,\n",
       "             hidden_layer_sizes=(100, 50, 20, 5), learning_rate='constant',\n",
       "             learning_rate_init=0.001, max_fun=15000, max_iter=200,\n",
       "             momentum=0.9, n_iter_no_change=10, nesterovs_momentum=True,\n",
       "             power_t=0.5, random_state=1, shuffle=True, solver='adam',\n",
       "             tol=0.0001, validation_fraction=0.1, verbose=False,\n",
       "             warm_start=False)"
      ]
     },
     "execution_count": 208,
     "metadata": {},
     "output_type": "execute_result"
    }
   ],
   "source": [
    "%%time\n",
    "model = MLPRegressor(hidden_layer_sizes = layers_dimensions, random_state=random_seed)\n",
    "model.fit(X_train, y_train)"
   ]
  },
  {
   "cell_type": "code",
   "execution_count": 205,
   "metadata": {},
   "outputs": [
    {
     "name": "stdout",
     "output_type": "stream",
     "text": [
      "RMSE train was 0.21554\n",
      "RMSE test was 0.21307\n",
      "R2 train was 0.91532\n",
      "R2 test was 0.91754\n",
      "CPU times: user 1.91 s, sys: 2.29 s, total: 4.2 s\n",
      "Wall time: 1.19 s\n"
     ]
    }
   ],
   "source": [
    "%%time\n",
    "predict_train_baseline = model.predict(X_train)\n",
    "predict_test_baseline = model.predict(X_test)\n",
    "\n",
    "rmse_train_baseline = np.sqrt(mean_squared_error(y_train, predict_train_baseline))\n",
    "rmse_test_baseline = np.sqrt(mean_squared_error(y_test, predict_test_baseline))\n",
    "\n",
    "r2_train_baseline = r2_score(y_train, predict_train_baseline)\n",
    "r2_test_baseline = r2_score(y_test, predict_test_baseline)\n",
    "\n",
    "print('RMSE train was %.5f' % rmse_train_baseline)\n",
    "print('RMSE test was %.5f' % rmse_test_baseline)\n",
    "print('R2 train was %.5f' % r2_train_baseline)\n",
    "print('R2 test was %.5f' % r2_test_baseline)"
   ]
  },
  {
   "cell_type": "markdown",
   "metadata": {},
   "source": [
    "# Optimized Neural Network Model"
   ]
  },
  {
   "cell_type": "markdown",
   "metadata": {},
   "source": [
    "Baseline CPU time is about 60 seconds. How can this be improved?\n",
    "\n",
    "Adam optimizer is already being used, and it's typically the fastest optimizer. So keep that the same.\n",
    "\n",
    "Add early_stopping - stop before based on validation loss rather than training loss - decreases training time to 50 seconds"
   ]
  },
  {
   "cell_type": "code",
   "execution_count": 276,
   "metadata": {
    "scrolled": true
   },
   "outputs": [
    {
     "name": "stdout",
     "output_type": "stream",
     "text": [
      "CPU times: user 43.7 s, sys: 880 ms, total: 44.6 s\n",
      "Wall time: 7.48 s\n"
     ]
    },
    {
     "data": {
      "text/plain": [
       "MLPRegressor(activation='relu', alpha=0.0001, batch_size='auto', beta_1=0.9,\n",
       "             beta_2=0.999, early_stopping=True, epsilon=1e-08,\n",
       "             hidden_layer_sizes=(100, 50, 20, 5), learning_rate='constant',\n",
       "             learning_rate_init=0.001, max_fun=15000, max_iter=200,\n",
       "             momentum=0.9, n_iter_no_change=10, nesterovs_momentum=True,\n",
       "             power_t=0.5, random_state=1, shuffle=True, solver='adam',\n",
       "             tol=0.0001, validation_fraction=0.1, verbose=False,\n",
       "             warm_start=False)"
      ]
     },
     "execution_count": 276,
     "metadata": {},
     "output_type": "execute_result"
    }
   ],
   "source": [
    "%%time\n",
    "model = MLPRegressor(hidden_layer_sizes = layers_dimensions, random_state=1, early_stopping=True)\n",
    "model.fit(X_train, y_train)"
   ]
  },
  {
   "cell_type": "code",
   "execution_count": 277,
   "metadata": {},
   "outputs": [
    {
     "name": "stdout",
     "output_type": "stream",
     "text": [
      "RMSE train 0.21693550096467135 difference from baseline 0.0013941990319328579\n",
      "RMSE test 0.2139183885844201 difference from baseline 0.0008506874077058302\n",
      "R2 train 0.9142206250020465 difference from baseline -0.0010990291565324828\n",
      "R2 test 0.9168784909799671 difference from baseline -0.000659782683850918\n",
      "CPU times: user 1.46 s, sys: 1.25 s, total: 2.71 s\n",
      "Wall time: 550 ms\n"
     ]
    }
   ],
   "source": [
    "%%time\n",
    "predict_train = model.predict(X_train)\n",
    "predict_test = model.predict(X_test)\n",
    "\n",
    "rmse_train = np.sqrt(mean_squared_error(y_train, predict_train))\n",
    "rmse_test = np.sqrt(mean_squared_error(y_test, predict_test))\n",
    "\n",
    "r2_train = r2_score(y_train, predict_train)\n",
    "r2_test = r2_score(y_test, predict_test)\n",
    "\n",
    "print('RMSE train', rmse_train, 'difference from baseline', rmse_train - rmse_train_baseline)\n",
    "print('RMSE test', rmse_test, 'difference from baseline', rmse_test - rmse_test_baseline)\n",
    "print('R2 train', r2_train, 'difference from baseline', r2_train - r2_train_baseline)\n",
    "print('R2 test', r2_test, 'difference from baseline', r2_test - r2_test_baseline)"
   ]
  },
  {
   "cell_type": "code",
   "execution_count": 299,
   "metadata": {},
   "outputs": [
    {
     "data": {
      "text/html": [
       "<div>\n",
       "<style scoped>\n",
       "    .dataframe tbody tr th:only-of-type {\n",
       "        vertical-align: middle;\n",
       "    }\n",
       "\n",
       "    .dataframe tbody tr th {\n",
       "        vertical-align: top;\n",
       "    }\n",
       "\n",
       "    .dataframe thead th {\n",
       "        text-align: right;\n",
       "    }\n",
       "</style>\n",
       "<table border=\"1\" class=\"dataframe\">\n",
       "  <thead>\n",
       "    <tr style=\"text-align: right;\">\n",
       "      <th></th>\n",
       "      <th>prediction_mod</th>\n",
       "      <th>prediction_baseline</th>\n",
       "      <th>downloads_next_month</th>\n",
       "      <th>diff</th>\n",
       "    </tr>\n",
       "  </thead>\n",
       "  <tbody>\n",
       "    <tr>\n",
       "      <th>43660</th>\n",
       "      <td>3.497298</td>\n",
       "      <td>3.566452</td>\n",
       "      <td>3.543074</td>\n",
       "      <td>-0.069154</td>\n",
       "    </tr>\n",
       "    <tr>\n",
       "      <th>87278</th>\n",
       "      <td>2.785889</td>\n",
       "      <td>2.807038</td>\n",
       "      <td>2.667453</td>\n",
       "      <td>-0.021149</td>\n",
       "    </tr>\n",
       "    <tr>\n",
       "      <th>14317</th>\n",
       "      <td>2.175071</td>\n",
       "      <td>2.135610</td>\n",
       "      <td>2.257679</td>\n",
       "      <td>0.039461</td>\n",
       "    </tr>\n",
       "    <tr>\n",
       "      <th>81932</th>\n",
       "      <td>2.360877</td>\n",
       "      <td>2.381606</td>\n",
       "      <td>2.480007</td>\n",
       "      <td>-0.020729</td>\n",
       "    </tr>\n",
       "    <tr>\n",
       "      <th>95321</th>\n",
       "      <td>2.473328</td>\n",
       "      <td>2.473618</td>\n",
       "      <td>2.184691</td>\n",
       "      <td>-0.000290</td>\n",
       "    </tr>\n",
       "    <tr>\n",
       "      <th>...</th>\n",
       "      <td>...</td>\n",
       "      <td>...</td>\n",
       "      <td>...</td>\n",
       "      <td>...</td>\n",
       "    </tr>\n",
       "    <tr>\n",
       "      <th>73441</th>\n",
       "      <td>1.223454</td>\n",
       "      <td>1.131422</td>\n",
       "      <td>1.518514</td>\n",
       "      <td>0.092033</td>\n",
       "    </tr>\n",
       "    <tr>\n",
       "      <th>1341</th>\n",
       "      <td>2.832989</td>\n",
       "      <td>2.854579</td>\n",
       "      <td>2.740363</td>\n",
       "      <td>-0.021590</td>\n",
       "    </tr>\n",
       "    <tr>\n",
       "      <th>71987</th>\n",
       "      <td>2.282947</td>\n",
       "      <td>2.278812</td>\n",
       "      <td>2.262451</td>\n",
       "      <td>0.004135</td>\n",
       "    </tr>\n",
       "    <tr>\n",
       "      <th>26910</th>\n",
       "      <td>2.554724</td>\n",
       "      <td>2.505752</td>\n",
       "      <td>2.751279</td>\n",
       "      <td>0.048971</td>\n",
       "    </tr>\n",
       "    <tr>\n",
       "      <th>24890</th>\n",
       "      <td>1.883803</td>\n",
       "      <td>1.937560</td>\n",
       "      <td>0.301030</td>\n",
       "      <td>-0.053758</td>\n",
       "    </tr>\n",
       "  </tbody>\n",
       "</table>\n",
       "<p>20000 rows × 4 columns</p>\n",
       "</div>"
      ],
      "text/plain": [
       "       prediction_mod  prediction_baseline  downloads_next_month      diff\n",
       "43660        3.497298             3.566452              3.543074 -0.069154\n",
       "87278        2.785889             2.807038              2.667453 -0.021149\n",
       "14317        2.175071             2.135610              2.257679  0.039461\n",
       "81932        2.360877             2.381606              2.480007 -0.020729\n",
       "95321        2.473328             2.473618              2.184691 -0.000290\n",
       "...               ...                  ...                   ...       ...\n",
       "73441        1.223454             1.131422              1.518514  0.092033\n",
       "1341         2.832989             2.854579              2.740363 -0.021590\n",
       "71987        2.282947             2.278812              2.262451  0.004135\n",
       "26910        2.554724             2.505752              2.751279  0.048971\n",
       "24890        1.883803             1.937560              0.301030 -0.053758\n",
       "\n",
       "[20000 rows x 4 columns]"
      ]
     },
     "execution_count": 299,
     "metadata": {},
     "output_type": "execute_result"
    }
   ],
   "source": [
    "# Overall the prediction distributions are similar\n",
    "pred_mod_df = pd.DataFrame(predict_test, columns=['prediction_mod'], index=y_test.index)\n",
    "pred_baseline_df = pd.DataFrame(predict_test_baseline, columns=['prediction_baseline'], index=y_test.index)\n",
    "all_preds = pd.concat([pred_mod_df, pred_baseline_df, y_test], axis=1)\n",
    "all_preds['diff'] = all_preds['prediction_mod'] - all_preds['prediction_baseline']\n",
    "all_preds"
   ]
  },
  {
   "cell_type": "code",
   "execution_count": 315,
   "metadata": {},
   "outputs": [
    {
     "data": {
      "image/png": "[encoded data removed]",
      "text/plain": [
       "<Figure size 1080x432 with 1 Axes>"
      ]
     },
     "metadata": {
      "needs_background": "light"
     },
     "output_type": "display_data"
    }
   ],
   "source": [
    "import seaborn as sns\n",
    "\n",
    "f, ax = plt.subplots(figsize=(15, 6))\n",
    "\n",
    "for col in ['prediction_mod', 'prediction_baseline', 'downloads_next_month']:\n",
    "    sns.distplot(all_preds[[col]], label=col, hist=False, rug=True, ax=ax)"
   ]
  },
  {
   "cell_type": "code",
   "execution_count": 313,
   "metadata": {},
   "outputs": [
    {
     "data": {
      "text/plain": [
       "<matplotlib.axes._subplots.AxesSubplot at 0x7fc35e2d9da0>"
      ]
     },
     "execution_count": 313,
     "metadata": {},
     "output_type": "execute_result"
    },
    {
     "data": {
      "image/png": "[encoded data removed]",
      "text/plain": [
       "<Figure size 1080x360 with 1 Axes>"
      ]
     },
     "metadata": {
      "needs_background": "light"
     },
     "output_type": "display_data"
    }
   ],
   "source": [
    "all_preds['diff'].hist(figsize=(15, 5), bins=500)"
   ]
  },
  {
   "cell_type": "markdown",
   "metadata": {},
   "source": [
    "scikit-learn does not have GPU support: https://scikit-learn.org/stable/faq.html#will-you-add-gpu-support, which is needed for faster deep learning model training. So let's port this network architecture to Keras. On a GPU, this will speed up training. "
   ]
  },
  {
   "cell_type": "code",
   "execution_count": 235,
   "metadata": {},
   "outputs": [],
   "source": [
    "def basic_model_with_regularization(input_shape, layers_dimensions, should_add_dropout=False):\n",
    "    \"\"\"\n",
    "    Add batch normalization and appropriate weight initialization.\n",
    "    \"\"\"\n",
    "    kernel_initializer = 'he_uniform'\n",
    "    input_layer = Input(shape=input_shape)\n",
    "    current_layer = input_layer\n",
    "    for layer_dimension in layers_dimensions:\n",
    "        layer = Dense(layer_dimension, activation='relu',\n",
    "                      kernel_initializer=kernel_initializer, use_bias=False)(current_layer)\n",
    "        current_layer = BatchNormalization()(layer)\n",
    "\n",
    "    if should_add_dropout:\n",
    "        current_layer = Dropout(.2)(current_layer)\n",
    "    \n",
    "    output = Dense(1, kernel_initializer=kernel_initializer, activation='linear')(current_layer)\n",
    "\n",
    "    return Model(inputs=input_layer, outputs=output)\n",
    "\n",
    "def basic_model_with_regularization(input_shape, layers_dimensions, should_add_dropout=False):\n",
    "    \"\"\"\n",
    "    Add batch normalization and appropriate weight initialization.\n",
    "    \"\"\"\n",
    "    activity_regularizer = tf.keras.regularizers.l2(l=1e-4)\n",
    "    kernel_initializer = 'he_uniform'\n",
    "    input_layer = Input(shape=input_shape)\n",
    "    current_layer = input_layer\n",
    "    for layer_dimension in layers_dimensions:\n",
    "        current_layer = Dense(layer_dimension, activation='relu',\n",
    "                              kernel_initializer=kernel_initializer, \n",
    "                              activity_regularizer=activity_regularizer)(current_layer)\n",
    "\n",
    "    if should_add_dropout:\n",
    "        current_layer = Dropout(.2)(current_layer)\n",
    "    \n",
    "    output = Dense(1, kernel_initializer=kernel_initializer, \n",
    "                   activity_regularizer=activity_regularizer, \n",
    "                   activation='linear')(current_layer)\n",
    "\n",
    "    return Model(inputs=input_layer, outputs=output)"
   ]
  },
  {
   "cell_type": "code",
   "execution_count": 251,
   "metadata": {},
   "outputs": [],
   "source": [
    "model = basic_model_with_regularization(input_shape=(7,), layers_dimensions=[100, 50, 20, 5])"
   ]
  },
  {
   "cell_type": "code",
   "execution_count": 184,
   "metadata": {},
   "outputs": [
    {
     "name": "stdout",
     "output_type": "stream",
     "text": [
      "Model: \"model_24\"\n",
      "_________________________________________________________________\n",
      "Layer (type)                 Output Shape              Param #   \n",
      "=================================================================\n",
      "input_29 (InputLayer)        [(None, 7)]               0         \n",
      "_________________________________________________________________\n",
      "dense_64 (Dense)             (None, 100)               700       \n",
      "_________________________________________________________________\n",
      "dense_65 (Dense)             (None, 50)                5000      \n",
      "_________________________________________________________________\n",
      "dense_66 (Dense)             (None, 20)                1000      \n",
      "_________________________________________________________________\n",
      "dense_67 (Dense)             (None, 5)                 100       \n",
      "_________________________________________________________________\n",
      "dense_68 (Dense)             (None, 1)                 6         \n",
      "=================================================================\n",
      "Total params: 6,806\n",
      "Trainable params: 6,806\n",
      "Non-trainable params: 0\n",
      "_________________________________________________________________\n"
     ]
    }
   ],
   "source": [
    "# sanity check model output\n",
    "model.summary()"
   ]
  },
  {
   "cell_type": "code",
   "execution_count": 142,
   "metadata": {},
   "outputs": [],
   "source": [
    "def get_dataset(x, y, batch_size):\n",
    "    dataset = tf.data.Dataset.from_tensor_slices((x, y))\n",
    "    return dataset.prefetch(100).batch(batch_size).shuffle(buffer_size=len(x))\n",
    "\n",
    "def get_predictor_dataset(x, batch_size):\n",
    "    dataset = tf.data.Dataset.from_tensor_slices((x))\n",
    "    return dataset.prefetch(100).batch(batch_size).shuffle(buffer_size=len(x))"
   ]
  },
  {
   "cell_type": "code",
   "execution_count": 212,
   "metadata": {},
   "outputs": [],
   "source": [
    "X_train_subset, X_valid, y_train_subset, y_valid = train_test_split(X_train, y_train, test_size=0.1, random_state=random_seed)\n",
    "\n",
    "train_generator = get_dataset(X_train_subset, y_train_subset, 200)\n",
    "validation_generator = get_dataset(X_valid, y_valid, 200)"
   ]
  },
  {
   "cell_type": "code",
   "execution_count": 325,
   "metadata": {
    "scrolled": true
   },
   "outputs": [
    {
     "name": "stdout",
     "output_type": "stream",
     "text": [
      "Train on 72000 samples, validate on 8000 samples\n",
      "Epoch 1/100\n",
      "72000/72000 [==============================] - 2s 32us/sample - loss: 0.4880 - val_loss: 0.0855\n",
      "Epoch 2/100\n",
      "72000/72000 [==============================] - 1s 16us/sample - loss: 0.0792 - val_loss: 0.0767\n",
      "Epoch 3/100\n",
      "72000/72000 [==============================] - 1s 13us/sample - loss: 0.0740 - val_loss: 0.0723\n",
      "Epoch 4/100\n",
      "72000/72000 [==============================] - 1s 13us/sample - loss: 0.0709 - val_loss: 0.0700\n",
      "Epoch 5/100\n",
      "72000/72000 [==============================] - 1s 13us/sample - loss: 0.0686 - val_loss: 0.0692\n",
      "Epoch 6/100\n",
      "72000/72000 [==============================] - 1s 13us/sample - loss: 0.0670 - val_loss: 0.0682\n",
      "Epoch 7/100\n",
      "72000/72000 [==============================] - 1s 14us/sample - loss: 0.0655 - val_loss: 0.0651\n",
      "Epoch 8/100\n",
      "72000/72000 [==============================] - 1s 14us/sample - loss: 0.0644 - val_loss: 0.0637\n",
      "Epoch 9/100\n",
      "72000/72000 [==============================] - 1s 14us/sample - loss: 0.0630 - val_loss: 0.0637\n",
      "Epoch 10/100\n",
      "72000/72000 [==============================] - 1s 14us/sample - loss: 0.0617 - val_loss: 0.0631\n",
      "Epoch 11/100\n",
      "72000/72000 [==============================] - 1s 16us/sample - loss: 0.0610 - val_loss: 0.0618\n",
      "Epoch 12/100\n",
      "72000/72000 [==============================] - 1s 14us/sample - loss: 0.0600 - val_loss: 0.0603\n",
      "Epoch 13/100\n",
      "72000/72000 [==============================] - 1s 13us/sample - loss: 0.0599 - val_loss: 0.0609\n",
      "Epoch 14/100\n",
      "72000/72000 [==============================] - 1s 13us/sample - loss: 0.0584 - val_loss: 0.0595\n",
      "Epoch 15/100\n",
      "72000/72000 [==============================] - 1s 13us/sample - loss: 0.0576 - val_loss: 0.0587\n",
      "Epoch 16/100\n",
      "72000/72000 [==============================] - 1s 13us/sample - loss: 0.0572 - val_loss: 0.0585\n",
      "Epoch 17/100\n",
      "72000/72000 [==============================] - 1s 13us/sample - loss: 0.0565 - val_loss: 0.0582\n",
      "Epoch 18/100\n",
      "72000/72000 [==============================] - 1s 14us/sample - loss: 0.0560 - val_loss: 0.0572\n",
      "Epoch 19/100\n",
      "72000/72000 [==============================] - 1s 15us/sample - loss: 0.0555 - val_loss: 0.0564\n",
      "Epoch 20/100\n",
      "72000/72000 [==============================] - 1s 16us/sample - loss: 0.0550 - val_loss: 0.0566\n",
      "Epoch 21/100\n",
      "72000/72000 [==============================] - 1s 15us/sample - loss: 0.0547 - val_loss: 0.0561\n",
      "Epoch 22/100\n",
      "72000/72000 [==============================] - 1s 14us/sample - loss: 0.0540 - val_loss: 0.0587\n",
      "Epoch 23/100\n",
      "72000/72000 [==============================] - 1s 14us/sample - loss: 0.0540 - val_loss: 0.0553\n",
      "Epoch 24/100\n",
      "72000/72000 [==============================] - 1s 15us/sample - loss: 0.0534 - val_loss: 0.0548\n",
      "Epoch 25/100\n",
      "72000/72000 [==============================] - 1s 16us/sample - loss: 0.0531 - val_loss: 0.0550\n",
      "Epoch 26/100\n",
      "72000/72000 [==============================] - 1s 14us/sample - loss: 0.0529 - val_loss: 0.0547\n",
      "Epoch 27/100\n",
      "72000/72000 [==============================] - 1s 14us/sample - loss: 0.0524 - val_loss: 0.0544\n",
      "Epoch 28/100\n",
      "72000/72000 [==============================] - 1s 14us/sample - loss: 0.0523 - val_loss: 0.0542\n",
      "Epoch 29/100\n",
      "72000/72000 [==============================] - 1s 14us/sample - loss: 0.0520 - val_loss: 0.0533\n",
      "Epoch 30/100\n",
      "72000/72000 [==============================] - 1s 15us/sample - loss: 0.0517 - val_loss: 0.0547\n",
      "Epoch 31/100\n",
      "72000/72000 [==============================] - 1s 15us/sample - loss: 0.0515 - val_loss: 0.0533\n",
      "Epoch 32/100\n",
      "72000/72000 [==============================] - 1s 16us/sample - loss: 0.0516 - val_loss: 0.0530\n",
      "Epoch 33/100\n",
      "72000/72000 [==============================] - 1s 14us/sample - loss: 0.0510 - val_loss: 0.0528\n",
      "Epoch 34/100\n",
      "67840/72000 [===========================>..] - ETA: 0s - loss: 0.0506Restoring model weights from the end of the best epoch.\n",
      "72000/72000 [==============================] - 1s 14us/sample - loss: 0.0510 - val_loss: 0.0534\n",
      "Epoch 00034: early stopping\n",
      "CPU times: user 47.5 s, sys: 18.8 s, total: 1min 6s\n",
      "Wall time: 36 s\n"
     ]
    }
   ],
   "source": [
    "%%time\n",
    "model = basic_model_with_regularization(input_shape=(7,), layers_dimensions=[100, 50, 20, 5])\n",
    "metric_to_monitor = 'val_loss'\n",
    "loss = 'mean_squared_error'\n",
    "early_stopping_patience = 5\n",
    "tolerance = 1e-3\n",
    "callbacks = [\n",
    "    EarlyStopping(monitor=metric_to_monitor, mode='min', min_delta=tolerance, \n",
    "                  patience=early_stopping_patience, verbose=verbosity, restore_best_weights=True),\n",
    "]\n",
    "lr = 1e-3\n",
    "optimizer = Adam(learning_rate=lr, epsilon=1e-8)\n",
    "n_epochs = 100\n",
    "model.compile(loss=loss, optimizer=optimizer)\n",
    "history = model.fit(x=X_train_subset, y=y_train_subset.values, validation_data=(X_valid, y_valid.values), \n",
    "                    epochs=n_epochs, batch_size=256,\n",
    "                    callbacks=callbacks, max_queue_size=len(X_train_subset))"
   ]
  },
  {
   "cell_type": "code",
   "execution_count": 319,
   "metadata": {},
   "outputs": [
    {
     "data": {
      "text/plain": [
       "<matplotlib.axes._subplots.AxesSubplot at 0x7fc35ddd9940>"
      ]
     },
     "execution_count": 319,
     "metadata": {},
     "output_type": "execute_result"
    },
    {
     "data": {
      "image/png": "[encoded data removed]",
      "text/plain": [
       "<Figure size 432x288 with 1 Axes>"
      ]
     },
     "metadata": {
      "needs_background": "light"
     },
     "output_type": "display_data"
    }
   ],
   "source": [
    "pd.DataFrame(history.history['val_loss'][1:]).plot()"
   ]
  },
  {
   "cell_type": "code",
   "execution_count": 326,
   "metadata": {},
   "outputs": [
    {
     "name": "stdout",
     "output_type": "stream",
     "text": [
      "\n",
      "\n",
      "RMSE train 0.21464677807398344 % difference from baseline -0.4150127380385782\n",
      "RMSE test 0.21284251672636895 % difference from baseline -0.10568680710483225\n",
      "R2 train 0.9160210641055064 % difference from baseline 0.07663005418279134\n",
      "R2 test 0.9177124838878301 % difference from baseline 0.0189866983222986\n",
      "CPU times: user 1.12 s, sys: 840 ms, total: 1.96 s\n",
      "Wall time: 1.43 s\n"
     ]
    }
   ],
   "source": [
    "%%time\n",
    "predict_train = model.predict(get_predictor_dataset(X_train, 128))\n",
    "predict_test = model.predict(get_predictor_dataset(X_test, 128))\n",
    "\n",
    "rmse_train = np.sqrt(mean_squared_error(y_train, predict_train))\n",
    "rmse_test = np.sqrt(mean_squared_error(y_test, predict_test))\n",
    "\n",
    "r2_train = r2_score(y_train, predict_train)\n",
    "r2_test = r2_score(y_test, predict_test)\n",
    "\n",
    "print('\\n')\n",
    "print('RMSE train', rmse_train, '% difference from baseline', (rmse_train / rmse_train_baseline - 1) * 100)\n",
    "print('RMSE test', rmse_test, '% difference from baseline', (rmse_test / rmse_test_baseline - 1) * 100)\n",
    "print('R2 train', r2_train, '% difference from baseline', (r2_train / r2_train_baseline - 1) * 100)\n",
    "print('R2 test', r2_test, '% difference from baseline', (r2_test / r2_test_baseline - 1) * 100)"
   ]
  },
  {
   "cell_type": "code",
   "execution_count": 327,
   "metadata": {},
   "outputs": [
    {
     "data": {
      "text/html": [
       "<div>\n",
       "<style scoped>\n",
       "    .dataframe tbody tr th:only-of-type {\n",
       "        vertical-align: middle;\n",
       "    }\n",
       "\n",
       "    .dataframe tbody tr th {\n",
       "        vertical-align: top;\n",
       "    }\n",
       "\n",
       "    .dataframe thead th {\n",
       "        text-align: right;\n",
       "    }\n",
       "</style>\n",
       "<table border=\"1\" class=\"dataframe\">\n",
       "  <thead>\n",
       "    <tr style=\"text-align: right;\">\n",
       "      <th></th>\n",
       "      <th>prediction_mod</th>\n",
       "      <th>prediction_baseline</th>\n",
       "      <th>downloads_next_month</th>\n",
       "      <th>diff</th>\n",
       "    </tr>\n",
       "  </thead>\n",
       "  <tbody>\n",
       "    <tr>\n",
       "      <th>6709</th>\n",
       "      <td>2.010658</td>\n",
       "      <td>2.388369</td>\n",
       "      <td>2.117271</td>\n",
       "      <td>-0.377711</td>\n",
       "    </tr>\n",
       "    <tr>\n",
       "      <th>19835</th>\n",
       "      <td>1.140396</td>\n",
       "      <td>1.495887</td>\n",
       "      <td>0.903090</td>\n",
       "      <td>-0.355491</td>\n",
       "    </tr>\n",
       "    <tr>\n",
       "      <th>57410</th>\n",
       "      <td>5.045264</td>\n",
       "      <td>5.388202</td>\n",
       "      <td>5.433298</td>\n",
       "      <td>-0.342938</td>\n",
       "    </tr>\n",
       "    <tr>\n",
       "      <th>83140</th>\n",
       "      <td>2.740880</td>\n",
       "      <td>3.071218</td>\n",
       "      <td>2.996074</td>\n",
       "      <td>-0.330339</td>\n",
       "    </tr>\n",
       "    <tr>\n",
       "      <th>13514</th>\n",
       "      <td>1.253800</td>\n",
       "      <td>1.583183</td>\n",
       "      <td>1.361728</td>\n",
       "      <td>-0.329383</td>\n",
       "    </tr>\n",
       "    <tr>\n",
       "      <th>...</th>\n",
       "      <td>...</td>\n",
       "      <td>...</td>\n",
       "      <td>...</td>\n",
       "      <td>...</td>\n",
       "    </tr>\n",
       "    <tr>\n",
       "      <th>29466</th>\n",
       "      <td>1.320051</td>\n",
       "      <td>1.102504</td>\n",
       "      <td>1.176091</td>\n",
       "      <td>0.217547</td>\n",
       "    </tr>\n",
       "    <tr>\n",
       "      <th>46862</th>\n",
       "      <td>1.348328</td>\n",
       "      <td>1.128964</td>\n",
       "      <td>1.146128</td>\n",
       "      <td>0.219363</td>\n",
       "    </tr>\n",
       "    <tr>\n",
       "      <th>22151</th>\n",
       "      <td>0.602141</td>\n",
       "      <td>0.371406</td>\n",
       "      <td>0.301030</td>\n",
       "      <td>0.230735</td>\n",
       "    </tr>\n",
       "    <tr>\n",
       "      <th>17423</th>\n",
       "      <td>3.006428</td>\n",
       "      <td>2.770079</td>\n",
       "      <td>2.947434</td>\n",
       "      <td>0.236350</td>\n",
       "    </tr>\n",
       "    <tr>\n",
       "      <th>39274</th>\n",
       "      <td>0.778987</td>\n",
       "      <td>0.437603</td>\n",
       "      <td>1.431364</td>\n",
       "      <td>0.341384</td>\n",
       "    </tr>\n",
       "  </tbody>\n",
       "</table>\n",
       "<p>20000 rows × 4 columns</p>\n",
       "</div>"
      ],
      "text/plain": [
       "       prediction_mod  prediction_baseline  downloads_next_month      diff\n",
       "6709         2.010658             2.388369              2.117271 -0.377711\n",
       "19835        1.140396             1.495887              0.903090 -0.355491\n",
       "57410        5.045264             5.388202              5.433298 -0.342938\n",
       "83140        2.740880             3.071218              2.996074 -0.330339\n",
       "13514        1.253800             1.583183              1.361728 -0.329383\n",
       "...               ...                  ...                   ...       ...\n",
       "29466        1.320051             1.102504              1.176091  0.217547\n",
       "46862        1.348328             1.128964              1.146128  0.219363\n",
       "22151        0.602141             0.371406              0.301030  0.230735\n",
       "17423        3.006428             2.770079              2.947434  0.236350\n",
       "39274        0.778987             0.437603              1.431364  0.341384\n",
       "\n",
       "[20000 rows x 4 columns]"
      ]
     },
     "execution_count": 327,
     "metadata": {},
     "output_type": "execute_result"
    }
   ],
   "source": [
    "pred_mod_df = pd.DataFrame(predict_test, columns=['prediction_mod'], index=y_test.index)\n",
    "pred_baseline_df = pd.DataFrame(predict_test_baseline, columns=['prediction_baseline'], index=y_test.index)\n",
    "all_preds = pd.concat([pred_mod_df, pred_baseline_df, y_test], axis=1)\n",
    "all_preds['diff'] = all_preds['prediction_mod'] - all_preds['prediction_baseline']\n",
    "all_preds.sort_values(by='diff')"
   ]
  },
  {
   "cell_type": "code",
   "execution_count": 328,
   "metadata": {},
   "outputs": [
    {
     "data": {
      "image/png": "[encoded data removed]",
      "text/plain": [
       "<Figure size 1080x432 with 1 Axes>"
      ]
     },
     "metadata": {
      "needs_background": "light"
     },
     "output_type": "display_data"
    }
   ],
   "source": [
    "f, ax = plt.subplots(figsize=(15, 6))\n",
    "\n",
    "for col in ['prediction_mod', 'prediction_baseline', 'downloads_next_month']:\n",
    "    sns.distplot(all_preds[[col]], label=col, hist=False, rug=True, ax=ax)"
   ]
  },
  {
   "cell_type": "code",
   "execution_count": 329,
   "metadata": {},
   "outputs": [
    {
     "data": {
      "text/plain": [
       "<matplotlib.axes._subplots.AxesSubplot at 0x7fc36202a898>"
      ]
     },
     "execution_count": 329,
     "metadata": {},
     "output_type": "execute_result"
    },
    {
     "data": {
      "image/png": "[encoded data removed]",
      "text/plain": [
       "<Figure size 1080x360 with 1 Axes>"
      ]
     },
     "metadata": {
      "needs_background": "light"
     },
     "output_type": "display_data"
    }
   ],
   "source": [
    "all_preds['diff'].hist(figsize=(15, 5), bins=500)"
   ]
  },
  {
   "cell_type": "code",
   "execution_count": null,
   "metadata": {},
   "outputs": [],
   "source": [
    "# pretty low difference in precision between the float64 and float32 dtypes\n",
    "((X - X.astype(np.float16)) / X).abs().max()"
   ]
  },
  {
   "cell_type": "code",
   "execution_count": null,
   "metadata": {},
   "outputs": [],
   "source": [
    "# history = model.fit_generator(generator=train_generator, validation_data=validation_generator, epochs=n_epochs, \n",
    "#                     callbacks=callbacks, max_queue_size=len(X_train_subset))"
   ]
  }
 ],
 "metadata": {
  "kernelspec": {
   "display_name": "Python [conda env:env] *",
   "language": "python",
   "name": "conda-env-env-py"
  },
  "language_info": {
   "codemirror_mode": {
    "name": "ipython",
    "version": 3
   },
   "file_extension": ".py",
   "mimetype": "text/x-python",
   "name": "python",
   "nbconvert_exporter": "python",
   "pygments_lexer": "ipython3",
   "version": "3.6.10"
  }
 },
 "nbformat": 4,
 "nbformat_minor": 4
}
